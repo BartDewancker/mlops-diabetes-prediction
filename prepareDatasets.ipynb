{
 "cells": [
  {
   "cell_type": "code",
   "execution_count": null,
   "metadata": {},
   "outputs": [],
   "source": [
    "import pandas as pd\n",
    "import numpy as np\n",
    "import matplotlib.pyplot as plt\n",
    "import seaborn as sns\n",
    "from sklearn.preprocessing import StandardScaler\n",
    "from sklearn.preprocessing import OneHotEncoder\n",
    "from sklearn.linear_model import LogisticRegression\n",
    "from sklearn.metrics import accuracy_score, confusion_matrix, classification_report, roc_auc_score\n",
    "from sklearn.model_selection import train_test_split\n",
    "from sklearn.compose import ColumnTransformer\n",
    "from sklearn.pipeline import Pipeline"
   ]
  },
  {
   "attachments": {},
   "cell_type": "markdown",
   "metadata": {},
   "source": [
    "## Create Train and Test datasets"
   ]
  },
  {
   "cell_type": "code",
   "execution_count": null,
   "metadata": {},
   "outputs": [],
   "source": [
    "# load the dataset\n",
    "df = pd.read_csv('diabetes_prediction_dataset.csv')\n",
    "df.head()"
   ]
  },
  {
   "cell_type": "code",
   "execution_count": 13,
   "metadata": {},
   "outputs": [
    {
     "name": "stdout",
     "output_type": "stream",
     "text": [
      "<class 'pandas.core.frame.DataFrame'>\n",
      "RangeIndex: 100000 entries, 0 to 99999\n",
      "Data columns (total 9 columns):\n",
      " #   Column               Non-Null Count   Dtype  \n",
      "---  ------               --------------   -----  \n",
      " 0   gender               100000 non-null  object \n",
      " 1   age                  100000 non-null  float64\n",
      " 2   hypertension         100000 non-null  int64  \n",
      " 3   heart_disease        100000 non-null  int64  \n",
      " 4   smoking_history      100000 non-null  object \n",
      " 5   bmi                  100000 non-null  float64\n",
      " 6   HbA1c_level          100000 non-null  float64\n",
      " 7   blood_glucose_level  100000 non-null  int64  \n",
      " 8   diabetes             100000 non-null  int64  \n",
      "dtypes: float64(3), int64(4), object(2)\n",
      "memory usage: 6.9+ MB\n"
     ]
    }
   ],
   "source": [
    "df.info()"
   ]
  },
  {
   "cell_type": "code",
   "execution_count": 14,
   "metadata": {},
   "outputs": [
    {
     "data": {
      "text/plain": [
       "gender                 0\n",
       "age                    0\n",
       "hypertension           0\n",
       "heart_disease          0\n",
       "smoking_history        0\n",
       "bmi                    0\n",
       "HbA1c_level            0\n",
       "blood_glucose_level    0\n",
       "diabetes               0\n",
       "dtype: int64"
      ]
     },
     "execution_count": 14,
     "metadata": {},
     "output_type": "execute_result"
    }
   ],
   "source": [
    "# check for missing values\n",
    "df.isnull().sum()\n"
   ]
  },
  {
   "cell_type": "code",
   "execution_count": 15,
   "metadata": {},
   "outputs": [
    {
     "data": {
      "text/plain": [
       "3854"
      ]
     },
     "execution_count": 15,
     "metadata": {},
     "output_type": "execute_result"
    }
   ],
   "source": [
    "# check for duplicate rows\n",
    "df.duplicated().sum()"
   ]
  },
  {
   "cell_type": "code",
   "execution_count": 16,
   "metadata": {},
   "outputs": [
    {
     "name": "stdout",
     "output_type": "stream",
     "text": [
      "gender : ['Female' 'Male' 'Other']\n",
      "age : [0.08, 80.0]\n",
      "hypertension : [0, 1]\n",
      "heart_disease : [0, 1]\n",
      "smoking_history : ['never' 'No Info' 'current' 'former' 'ever' 'not current']\n",
      "bmi : [10.01, 95.69]\n",
      "HbA1c_level : [3.5, 9.0]\n",
      "blood_glucose_level : [80, 300]\n",
      "diabetes : [0, 1]\n"
     ]
    }
   ],
   "source": [
    "# check for unique values in each column\n",
    "for col in df.columns:\n",
    "    if df[col].dtype == 'object':\n",
    "        print(f'{col} : {df[col].unique()}')\n",
    "    else:\n",
    "        print(f'{col} : [{df[col].min()}, {df[col].max()}]')\n"
   ]
  },
  {
   "cell_type": "code",
   "execution_count": 17,
   "metadata": {},
   "outputs": [
    {
     "name": "stdout",
     "output_type": "stream",
     "text": [
      "Train set:\n",
      "diabetes\n",
      "0    0.915\n",
      "1    0.085\n",
      "Name: proportion, dtype: float64\n",
      "Test set:\n",
      "diabetes\n",
      "0    0.915\n",
      "1    0.085\n",
      "Name: proportion, dtype: float64\n"
     ]
    },
    {
     "data": {
      "image/png": "[encoded data removed]",
      "text/plain": [
       "<Figure size 800x200 with 2 Axes>"
      ]
     },
     "metadata": {},
     "output_type": "display_data"
    }
   ],
   "source": [
    "# split the dataset into train and test sets\n",
    "target = 'diabetes'\n",
    "\n",
    "df_train, df_test = train_test_split(df, test_size=0.2, random_state=42, shuffle=True, stratify=df[target])\n",
    "\n",
    "# show the target distribution in train and test sets\n",
    "print('Train set:')\n",
    "print(df_train[target].value_counts(normalize=True))\n",
    "print('Test set:')\n",
    "print(df_test[target].value_counts(normalize=True))\n",
    "\n",
    "# visualize the target distribution in train and test sets\n",
    "fig, ax = plt.subplots(1, 2, figsize=(8, 2))\n",
    "sns.countplot(x=df_train[target], ax=ax[0])\n",
    "ax[0].set_title('Train set')\n",
    "sns.countplot(x=df_test[target], ax=ax[1])\n",
    "ax[1].set_title('Test set')\n",
    "plt.show()\n"
   ]
  },
  {
   "attachments": {},
   "cell_type": "markdown",
   "metadata": {},
   "source": [
    "## Create Model"
   ]
  },
  {
   "cell_type": "code",
   "execution_count": null,
   "metadata": {},
   "outputs": [],
   "source": [
    "# create model as pipeline \n",
    "\n",
    "# 1. create a pipeline for numeric features\n",
    "numeric_features = ['age', 'bmi', 'HbA1c_level', 'blood_glucose_level']\n",
    "numeric_transformer = Pipeline(steps=[\n",
    "    ('scaler', StandardScaler())\n",
    "])\n",
    "\n",
    "# 2. create a pipeline for categorical features\n",
    "categoricalFeatures = ['gender', 'smoking_history']\n",
    "categorical_transformer = Pipeline(steps=[\n",
    "    ('onehot', OneHotEncoder(handle_unknown='ignore'))\n",
    "])\n",
    "\n",
    "# 3. define boolean features, which will be passed through the pipeline\n",
    "booleanFeatures = ['hypertension', 'heart_disease']\n",
    "\n",
    "# 4. create a column transformer to combine both pipelines\n",
    "preprocessor = ColumnTransformer(\n",
    "    transformers=[\n",
    "        ('num', numeric_transformer, numeric_features),\n",
    "        ('cat', categorical_transformer, categoricalFeatures),\n",
    "        ('bool', 'passthrough', booleanFeatures),\n",
    "    ],\n",
    "    remainder='drop'\n",
    ")\n",
    "\n",
    "# 5. create a pipeline for the model\n",
    "model = Pipeline(steps=[\n",
    "    ('preprocessor', preprocessor),\n",
    "    ('classifier', LogisticRegression())\n",
    "])\n",
    "\n",
    "# # configure model\n",
    "# model.set_params(\n",
    "#     classifier__C=10, \n",
    "#     classifier__solver='liblinear', \n",
    "#     classifier__max_iter=1000, \n",
    "#     classifier__class_weight='balanced',\n",
    "#     preprocessor__num__scaler__with_mean=True)\n",
    "\n",
    "# print\n",
    "model"
   ]
  },
  {
   "cell_type": "code",
   "execution_count": null,
   "metadata": {},
   "outputs": [],
   "source": [
    "# configure model\n",
    "model.set_params(\n",
    "    classifier__C=0.1,\n",
    "    classifier__solver='liblinear',\n",
    "    classifier__max_iter=1000,\n",
    "    classifier__class_weight='balanced',\n",
    "    preprocessor__num__scaler__with_mean=False)\n"
   ]
  },
  {
   "attachments": {},
   "cell_type": "markdown",
   "metadata": {},
   "source": [
    "## Train"
   ]
  },
  {
   "cell_type": "code",
   "execution_count": null,
   "metadata": {},
   "outputs": [],
   "source": [
    "# fit the model\n",
    "X_train = df_train.drop(target, axis=1)\n",
    "y_train = df_train[target]\n",
    "model.fit(X_train, y_train)\n",
    "\n",
    "# make predictions on the test set\n",
    "X_test = df_test.drop(target, axis=1)\n",
    "y_test = df_test[target]\n",
    "y_pred = model.predict(X_test)\n",
    "y_pred_proba = model.predict_proba(X_test)[:, 1]\n",
    "\n",
    "# evaluate the model\n",
    "\n",
    "# 1. accuracy score\n",
    "print(f'Accuracy score: {accuracy_score(y_test, y_pred):.4f}')\n",
    "\n",
    "# 2. confusion matrix\n",
    "print(f'Confusion matrix: \\n{confusion_matrix(y_test, y_pred)}')\n",
    "\n",
    "# 3. ROC AUC score\n",
    "print(f'ROC AUC score: {roc_auc_score(y_test, y_pred_proba):.4f}')\n",
    "\n",
    "# 4. classification report\n",
    "print(f'Classification report: \\n{classification_report(y_test, y_pred)}')\n"
   ]
  },
  {
   "cell_type": "code",
   "execution_count": null,
   "metadata": {},
   "outputs": [],
   "source": []
  }
 ],
 "metadata": {
  "kernelspec": {
   "display_name": "diabetes-env",
   "language": "python",
   "name": "python3"
  },
  "language_info": {
   "codemirror_mode": {
    "name": "ipython",
    "version": 3
   },
   "file_extension": ".py",
   "mimetype": "text/x-python",
   "name": "python",
   "nbconvert_exporter": "python",
   "pygments_lexer": "ipython3",
   "version": "3.10.4"
  },
  "orig_nbformat": 4
 },
 "nbformat": 4,
 "nbformat_minor": 2
}
